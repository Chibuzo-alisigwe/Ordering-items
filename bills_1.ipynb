{
 "cells": [
  {
   "cell_type": "code",
   "execution_count": 9,
   "id": "6c7efcd0",
   "metadata": {},
   "outputs": [
    {
     "name": "stdout",
     "output_type": "stream",
     "text": [
      "How many Eggs do you want to buy? 6\n",
      "How many Tomatoes do you want to buy? 6\n",
      "How many Baked beans do you want to buy? 6\n",
      "How many Bacon do you want to buy? 6\n",
      "How many Sausages do you want to buy? 6\n",
      "\n",
      " You have ordered\n",
      "{'Eggs': 6, 'Tomatoes': 6, 'Baked beans': 6, 'Bacon': 6, 'Sausages': 6}\n",
      "\n",
      "The total price of your order is 189.0\n"
     ]
    }
   ],
   "source": [
    "\"\"\"This code will provide the total cost of breakfast in an English eatry\"\"\"\n",
    "\n",
    "foods = [\"Eggs\", \"Tomatoes\", \"Baked beans\", \"Bacon\", \"Sausages\"]   # List of items available for breakfast\n",
    "\n",
    "# A dictionaery showing the price of each item on the list\n",
    "prices = {\n",
    "    \"Eggs\" : 10,\n",
    "    \"Tomatoes\" : 4,\n",
    "    \"Baked beans\" : 5,\n",
    "    \"Bacon\" : 7,\n",
    "    \"Sausages\" : 5.50\n",
    "}\n",
    "\n",
    "# Initialising an empty dictionary to collect the users order\n",
    "\n",
    "UserOrder = {}\n",
    "\n",
    "# Using a for loop to iterate through the keys of the prices dictionary to collect the amount of each item (key) \n",
    "# the customer needs\n",
    "\n",
    "for items in prices.keys():\n",
    "    quantity = int(input(f\"How many {items} do you want to buy? \"))\n",
    "    UserOrder[items] = quantity\n",
    "print(\"\\n You have ordered\")\n",
    "print(UserOrder)\n",
    "\n",
    "# To calculate the total price of the items\n",
    "\n",
    "total = 0  #Initialising the total price to zero\n",
    "\n",
    "# Using a for loop to calcuale the prices\n",
    "for food in foods:\n",
    "    total_price = prices[food] * UserOrder[food]\n",
    "    \n",
    "    # Adding the price to the initialised total\n",
    "    total = total + total_price\n",
    "\n",
    "# printing the total price of the order\n",
    "print(f\"\\nThe total price of your order is {total}\")"
   ]
  },
  {
   "cell_type": "markdown",
   "id": "a36a0616",
   "metadata": {},
   "source": [
    "###### "
   ]
  }
 ],
 "metadata": {
  "kernelspec": {
   "display_name": "Python 3 (ipykernel)",
   "language": "python",
   "name": "python3"
  },
  "language_info": {
   "codemirror_mode": {
    "name": "ipython",
    "version": 3
   },
   "file_extension": ".py",
   "mimetype": "text/x-python",
   "name": "python",
   "nbconvert_exporter": "python",
   "pygments_lexer": "ipython3",
   "version": "3.11.5"
  }
 },
 "nbformat": 4,
 "nbformat_minor": 5
}
